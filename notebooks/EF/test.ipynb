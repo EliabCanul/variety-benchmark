{
 "cells": [
  {
   "cell_type": "code",
   "execution_count": 1,
   "id": "0e621529",
   "metadata": {},
   "outputs": [],
   "source": [
    "import varietybenchmark"
   ]
  },
  {
   "cell_type": "code",
   "execution_count": 2,
   "id": "a44bed00",
   "metadata": {},
   "outputs": [],
   "source": [
    "man = varietybenchmark.managers.VarietyBenchmark()"
   ]
  },
  {
   "cell_type": "code",
   "execution_count": 3,
   "id": "8f22b8af",
   "metadata": {},
   "outputs": [],
   "source": [
    "man.run_params['IO']['store'] = 'aurrera'"
   ]
  },
  {
   "cell_type": "code",
   "execution_count": 4,
   "id": "325bd398",
   "metadata": {},
   "outputs": [
    {
     "name": "stdout",
     "output_type": "stream",
     "text": [
      "2022-03-28 14:42:55,223 [INFO] ----------------------------\n",
      "2022-03-28 14:42:55,239 [INFO] Resolving for store: aurrera\n",
      "2022-03-28 14:42:55,240 [INFO] Reading raw scraped file...\n",
      "2022-03-28 14:43:06,994 [INFO] Running preprocessing of data...\n",
      "2022-03-28 14:43:07,101 [INFO] Reading Neta catalog from RDS...\n",
      "2022-03-28 14:43:08,778 [INFO] Matching products between Neta and Aurrera...\n",
      "2022-03-28 14:43:09,241 [INFO] Saving final tables for aurrera...\n",
      "2022-03-28 14:43:09,795 [INFO] Figure saved in local directory.\n",
      "2022-03-28 14:43:09,801 [INFO] Pushing table to destination in rds: products_variety_ba\n",
      "2022-03-28 14:43:59,161 [INFO] Finished!\n"
     ]
    }
   ],
   "source": [
    "man.run()"
   ]
  },
  {
   "cell_type": "code",
   "execution_count": null,
   "id": "828efc7b",
   "metadata": {},
   "outputs": [],
   "source": []
  },
  {
   "cell_type": "code",
   "execution_count": null,
   "id": "cda2a015",
   "metadata": {},
   "outputs": [],
   "source": []
  },
  {
   "cell_type": "code",
   "execution_count": 1,
   "id": "cfa27051",
   "metadata": {},
   "outputs": [],
   "source": [
    "from netadata.ion import ion"
   ]
  },
  {
   "cell_type": "code",
   "execution_count": null,
   "id": "416096be",
   "metadata": {},
   "outputs": [],
   "source": [
    "ion.query_rds"
   ]
  },
  {
   "cell_type": "code",
   "execution_count": null,
   "id": "0860b40c",
   "metadata": {},
   "outputs": [],
   "source": [
    "# Para actualizar paquete\n",
    "# pip install --upgrade ."
   ]
  }
 ],
 "metadata": {
  "kernelspec": {
   "display_name": "Python 3 (ipykernel)",
   "language": "python",
   "name": "python3"
  },
  "language_info": {
   "codemirror_mode": {
    "name": "ipython",
    "version": 3
   },
   "file_extension": ".py",
   "mimetype": "text/x-python",
   "name": "python",
   "nbconvert_exporter": "python",
   "pygments_lexer": "ipython3",
   "version": "3.9.7"
  }
 },
 "nbformat": 4,
 "nbformat_minor": 5
}
